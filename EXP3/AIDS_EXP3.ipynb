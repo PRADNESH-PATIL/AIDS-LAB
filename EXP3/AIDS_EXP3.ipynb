{
  "nbformat": 4,
  "nbformat_minor": 0,
  "metadata": {
    "colab": {
      "provenance": []
    },
    "kernelspec": {
      "name": "python3",
      "display_name": "Python 3"
    },
    "language_info": {
      "name": "python"
    }
  },
  "cells": [
    {
      "cell_type": "markdown",
      "source": [
        "Normality Tests\n",
        "\n",
        "This section lists statistical tests that you can use to check if your data has a Gaussian distribution.\n",
        "\n",
        "Shapiro-Wilk Test\n",
        "Tests whether a data sample has a Gaussian distribution.\n",
        "\n",
        "Assumptions\n",
        "\n",
        "Observations in each sample are independent and identically distributed (iid).\n",
        "Interpretation\n",
        "\n",
        "H0: the sample has a Gaussian distribution.\n",
        "H1: the sample does not have a Gaussian distribution."
      ],
      "metadata": {
        "id": "dWbhvT655tgZ"
      }
    },
    {
      "cell_type": "code",
      "source": [
        "# Example of the Shapiro-Wilk Normality Test\n",
        "from scipy.stats import shapiro\n",
        "data = [0.690, 2.069, 0.0069, -0.669, -0.699, -1.6969, 0.6699, -1.0006699, -1.069069, -1.696969]\n",
        "stat, p = shapiro(data)\n",
        "print('stat=%.3f, p=%.3f' % (stat, p))\n",
        "if p > 0.05:\n",
        "\tprint('Probably Gaussian')\n",
        "else:\n",
        "\tprint('Probably not Gaussian')"
      ],
      "metadata": {
        "id": "AqHtch9R5x6Y",
        "colab": {
          "base_uri": "https://localhost:8080/"
        },
        "outputId": "bd1d6fb7-6079-4866-e7a4-12009a033516"
      },
      "execution_count": null,
      "outputs": [
        {
          "output_type": "stream",
          "name": "stdout",
          "text": [
            "stat=0.920, p=0.355\n",
            "Probably Gaussian\n"
          ]
        }
      ]
    },
    {
      "cell_type": "markdown",
      "source": [
        "D’Agostino’s K^2 Test\n",
        "\n",
        "Tests whether a data sample has a Gaussian distribution.\n",
        "\n",
        "Assumptions\n",
        "\n",
        "Observations in each sample are independent and identically distributed (iid).\n",
        "Interpretation\n",
        "\n",
        "H0: the sample has a Gaussian distribution.\n",
        "H1: the sample does not have a Gaussian distribution."
      ],
      "metadata": {
        "id": "x5LGEE5c51Vg"
      }
    },
    {
      "cell_type": "code",
      "source": [
        "# Example of the D'Agostino's K^2 Normality Test\n",
        "from scipy.stats import normaltest\n",
        "data = [0.099, 2.909, 0.990, -0.119, -0.050, -1.656, 0.544, -1.789, -1.999, -1.869]\n",
        "stat, p = normaltest(data)\n",
        "print('stat=%.3f, p=%.3f' % (stat, p))\n",
        "if p > 0.05:\n",
        "\tprint('Probably Gaussian')\n",
        "else:\n",
        "\tprint('Probably not Gaussian')"
      ],
      "metadata": {
        "id": "0883vufh6MvZ",
        "colab": {
          "base_uri": "https://localhost:8080/"
        },
        "outputId": "1abf2c38-5afa-4b0b-9db2-d1fec965a25c"
      },
      "execution_count": null,
      "outputs": [
        {
          "output_type": "stream",
          "name": "stdout",
          "text": [
            "stat=1.420, p=0.492\n",
            "Probably Gaussian\n"
          ]
        },
        {
          "output_type": "stream",
          "name": "stderr",
          "text": [
            "/usr/local/lib/python3.11/dist-packages/scipy/stats/_axis_nan_policy.py:531: UserWarning: kurtosistest only valid for n>=20 ... continuing anyway, n=10\n",
            "  res = hypotest_fun_out(*samples, **kwds)\n"
          ]
        }
      ]
    },
    {
      "cell_type": "markdown",
      "source": [
        "Anderson-Darling Test\n",
        "\n",
        "Tests whether a data sample has a Gaussian distribution.\n",
        "\n",
        "Assumptions\n",
        "\n",
        "Observations in each sample are independent and identically distributed (iid).\n",
        "Interpretation\n",
        "\n",
        "H0: the sample has a Gaussian distribution.\n",
        "H1: the sample does not have a Gaussian distribution."
      ],
      "metadata": {
        "id": "9W6EeY_d6O5p"
      }
    },
    {
      "cell_type": "code",
      "source": [
        "# Example of the Anderson-Darling Normality Test\n",
        "from scipy.stats import anderson\n",
        "data = [0.873, 2.817, 0.121, -0.945, -0.055, -1.436, 0.360, -1.478, -1.637, -1.869]\n",
        "result = anderson(data)\n",
        "print('stat=%.3f' % (result.statistic))\n",
        "for i in range(len(result.critical_values)):\n",
        "\tsl, cv = result.significance_level[i], result.critical_values[i]\n",
        "\tif result.statistic < cv:\n",
        "\t\tprint('Probably Gaussian at the %.1f%% level' % (sl))\n",
        "\telse:\n",
        "\t\tprint('Probably not Gaussian at the %.1f%% level' % (sl))"
      ],
      "metadata": {
        "id": "upPMUg8X6TYQ",
        "colab": {
          "base_uri": "https://localhost:8080/"
        },
        "outputId": "e4097fb6-fe68-4b03-ed68-e2f57f8b49b5"
      },
      "execution_count": null,
      "outputs": [
        {
          "output_type": "stream",
          "name": "stdout",
          "text": [
            "stat=0.424\n",
            "Probably Gaussian at the 15.0% level\n",
            "Probably Gaussian at the 10.0% level\n",
            "Probably Gaussian at the 5.0% level\n",
            "Probably Gaussian at the 2.5% level\n",
            "Probably Gaussian at the 1.0% level\n"
          ]
        }
      ]
    },
    {
      "cell_type": "markdown",
      "source": [
        "Correlation Tests\n",
        "\n",
        "This section lists statistical tests that you can use to check if two samples are related.\n",
        "\n",
        "Pearson’s Correlation Coefficient\n",
        "Tests whether two samples have a linear relationship.\n",
        "\n",
        "Assumptions\n",
        "\n",
        "Observations in each sample are independent and identically distributed (iid).\n",
        "Observations in each sample are normally distributed.\n",
        "Observations in each sample have the same variance.\n",
        "Interpretation\n",
        "\n",
        "H0: the two samples are independent.\n",
        "H1: there is a dependency between the samples"
      ],
      "metadata": {
        "id": "aaLOUDpI6VoI"
      }
    },
    {
      "cell_type": "code",
      "source": [
        "# Example of the Pearson's Correlation test\n",
        "from scipy.stats import pearsonr\n",
        "data1 = [0.873, 2.817, 0.121, -0.945, -0.055, -1.436, 0.360, -1.478, -1.637, -1.869]\n",
        "data2 = [0.353, 3.517, 0.125, -7.545, -0.555, -1.536, 3.350, -1.578, -3.537, -1.579]\n",
        "stat, p = pearsonr(data1, data2)\n",
        "print('stat=%.3f, p=%.3f' % (stat, p))\n",
        "if p > 0.05:\n",
        "\tprint('Probably independent')\n",
        "else:\n",
        "\tprint('Probably dependent')"
      ],
      "metadata": {
        "id": "UxuClFHM6YzZ",
        "colab": {
          "base_uri": "https://localhost:8080/"
        },
        "outputId": "24ffad9a-75bd-48e9-93c9-9625f54b5a71"
      },
      "execution_count": null,
      "outputs": [
        {
          "output_type": "stream",
          "name": "stdout",
          "text": [
            "stat=0.688, p=0.028\n",
            "Probably dependent\n"
          ]
        }
      ]
    },
    {
      "cell_type": "markdown",
      "source": [
        "Spearman’s Rank Correlation\n",
        "\n",
        "Tests whether two samples have a monotonic relationship.\n",
        "\n",
        "Assumptions\n",
        "\n",
        "Observations in each sample are independent and identically distributed (iid).\n",
        "Observations in each sample can be ranked.\n",
        "Interpretation\n",
        "\n",
        "H0: the two samples are independent.\n",
        "H1: there is a dependency between the samples."
      ],
      "metadata": {
        "id": "6cJI6DyW6bD6"
      }
    },
    {
      "cell_type": "code",
      "source": [
        "# Example of the Spearman's Rank Correlation Test\n",
        "from scipy.stats import spearmanr\n",
        "data1 = [0.873, 2.817, 0.121, -0.945, -0.055, -1.436, 0.360, -1.478, -1.637, -1.869]\n",
        "data2 = [0.353, 3.517, 0.125, -7.545, -0.555, -1.536, 3.350, -1.578, -3.537, -1.579]\n",
        "stat, p = spearmanr(data1, data2)\n",
        "print('stat=%.3f, p=%.3f' % (stat, p))\n",
        "if p > 0.05:\n",
        "\tprint('Probably independent')\n",
        "else:\n",
        "\tprint('Probably dependent')"
      ],
      "metadata": {
        "id": "IgTi1e226dwQ",
        "colab": {
          "base_uri": "https://localhost:8080/"
        },
        "outputId": "7ef0cf78-028f-487b-ebfc-77a2e1388645"
      },
      "execution_count": null,
      "outputs": [
        {
          "output_type": "stream",
          "name": "stdout",
          "text": [
            "stat=0.855, p=0.002\n",
            "Probably dependent\n"
          ]
        }
      ]
    },
    {
      "cell_type": "markdown",
      "source": [
        "Kendall’s Rank Correlation\n",
        "\n",
        "Tests whether two samples have a monotonic relationship.\n",
        "\n",
        "Assumptions\n",
        "\n",
        "Observations in each sample are independent and identically distributed (iid).\n",
        "Observations in each sample can be ranked.\n",
        "Interpretation\n",
        "\n",
        "H0: the two samples are independent.\n",
        "H1: there is a dependency between the samples."
      ],
      "metadata": {
        "id": "6ccUdghL6gF5"
      }
    },
    {
      "cell_type": "code",
      "source": [
        "# Example of the Kendall's Rank Correlation Test\n",
        "from scipy.stats import kendalltau\n",
        "data1 = [0.873, 2.817, 0.121, -0.945, -0.055, -1.436, 0.360, -1.478, -1.637, -1.869]\n",
        "data2 = [0.353, 3.517, 0.125, -7.545, -0.555, -1.536, 3.350, -1.578, -3.537, -1.579]\n",
        "stat, p = kendalltau(data1, data2)\n",
        "print('stat=%.3f, p=%.3f' % (stat, p))\n",
        "if p > 0.05:\n",
        "\tprint('Probably independent')\n",
        "else:\n",
        "\tprint('Probably dependent')"
      ],
      "metadata": {
        "id": "kzUlOUIl6jBi",
        "colab": {
          "base_uri": "https://localhost:8080/"
        },
        "outputId": "ebc9aaa6-7889-4e40-ac51-545c1647f2b7"
      },
      "execution_count": null,
      "outputs": [
        {
          "output_type": "stream",
          "name": "stdout",
          "text": [
            "stat=0.733, p=0.002\n",
            "Probably dependent\n"
          ]
        }
      ]
    },
    {
      "cell_type": "markdown",
      "source": [
        "Chi-Squared Test\n",
        "\n",
        "Tests whether two categorical variables are related or independent.\n",
        "\n",
        "Assumptions\n",
        "\n",
        "Observations used in the calculation of the contingency table are independent.\n",
        "25 or more examples in each cell of the contingency table.\n",
        "Interpretation\n",
        "\n",
        "H0: the two samples are independent.\n",
        "H1: there is a dependency between the samples."
      ],
      "metadata": {
        "id": "nwTbTXuL6lpo"
      }
    },
    {
      "cell_type": "code",
      "source": [
        "# Example of the Chi-Squared Test\n",
        "from scipy.stats import chi2_contingency\n",
        "table = [[10, 20, 30],[6,  9,  17]]\n",
        "stat, p, dof, expected = chi2_contingency(table)\n",
        "print('stat=%.3f, p=%.3f' % (stat, p))\n",
        "if p > 0.05:\n",
        "\tprint('Probably independent')\n",
        "else:\n",
        "\tprint('Probably dependent')"
      ],
      "metadata": {
        "id": "2nLIORSJ6pe5",
        "colab": {
          "base_uri": "https://localhost:8080/"
        },
        "outputId": "b996aea1-bf17-4499-afbe-65ee949ac6e5"
      },
      "execution_count": null,
      "outputs": [
        {
          "output_type": "stream",
          "name": "stdout",
          "text": [
            "stat=0.272, p=0.873\n",
            "Probably independent\n"
          ]
        }
      ]
    },
    {
      "cell_type": "markdown",
      "source": [
        "Stationary Tests\n",
        "\n",
        "This section lists statistical tests that you can use to check if a time series is stationary or not.\n",
        "\n",
        "Augmented Dickey-Fuller Unit Root Test\n",
        "Tests whether a time series has a unit root, e.g. has a trend or more generally is autoregressive.\n",
        "\n",
        "Assumptions\n",
        "\n",
        "Observations in are temporally ordered.\n",
        "Interpretation\n",
        "\n",
        "H0: a unit root is present (series is non-stationary).\n",
        "H1: a unit root is not present (series is stationary)."
      ],
      "metadata": {
        "id": "KCDPyUWi6riY"
      }
    },
    {
      "cell_type": "code",
      "source": [
        "# Example of the Augmented Dickey-Fuller unit root test\n",
        "from statsmodels.tsa.stattools import adfuller\n",
        "data = [0, 1, 2, 3, 4, 5, 6, 7, 8, 9]\n",
        "stat, p, lags, obs, crit, t = adfuller(data)\n",
        "print('stat=%.3f, p=%.3f' % (stat, p))\n",
        "if p > 0.05:\n",
        "\tprint('Probably not Stationary')\n",
        "else:\n",
        "\tprint('Probably Stationary')"
      ],
      "metadata": {
        "id": "PRgMLTPw6vYR",
        "colab": {
          "base_uri": "https://localhost:8080/"
        },
        "outputId": "29dc2614-9317-46d6-b265-2b41b5b69b98"
      },
      "execution_count": null,
      "outputs": [
        {
          "output_type": "stream",
          "name": "stdout",
          "text": [
            "stat=0.517, p=0.985\n",
            "Probably not Stationary\n"
          ]
        }
      ]
    },
    {
      "cell_type": "markdown",
      "source": [
        "Nonparametric Statistical Hypothesis Tests\n",
        "Mann-Whitney U Test\n",
        "Tests whether the distributions of two independent samples are equal or not.\n",
        "\n",
        "Assumptions\n",
        "\n",
        "Observations in each sample are independent and identically distributed (iid).\n",
        "Observations in each sample can be ranked.\n",
        "Interpretation\n",
        "\n",
        "H0: the distributions of both samples are equal.\n",
        "H1: the distributions of both samples are not equal."
      ],
      "metadata": {
        "id": "7TghPgFg6xgQ"
      }
    },
    {
      "cell_type": "code",
      "source": [
        "# Example of the Mann-Whitney U Test\n",
        "from scipy.stats import mannwhitneyu\n",
        "data1 = [0.873, 2.817, 0.121, -0.945, -0.055, -1.436, 0.360, -1.478, -1.637, -1.869]\n",
        "data2 = [1.142, -0.432, -0.938, -0.729, -0.846, -0.157, 0.500, 1.183, -1.075, -0.169]\n",
        "stat, p = mannwhitneyu(data1, data2)\n",
        "print('stat=%.3f, p=%.3f' % (stat, p))\n",
        "if p > 0.05:\n",
        "\tprint('Probably the same distribution')\n",
        "else:\n",
        "\tprint('Probably different distributions')"
      ],
      "metadata": {
        "id": "n2Gs9pKP7AlJ",
        "colab": {
          "base_uri": "https://localhost:8080/"
        },
        "outputId": "917d6548-813d-412b-84e1-95f2a9ac10f7"
      },
      "execution_count": null,
      "outputs": [
        {
          "output_type": "stream",
          "name": "stdout",
          "text": [
            "stat=40.000, p=0.473\n",
            "Probably the same distribution\n"
          ]
        }
      ]
    }
  ]
}